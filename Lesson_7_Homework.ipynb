{
 "cells": [
  {
   "cell_type": "code",
   "execution_count": 8,
   "metadata": {},
   "outputs": [],
   "source": [
    "import numpy as np\n",
    "import matplotlib.pyplot as plt\n",
    "%matplotlib inline"
   ]
  },
  {
   "cell_type": "markdown",
   "metadata": {},
   "source": [
    "1. Даны значения величины заработной платы заемщиков банка (zp) и значения их поведенческого кредитного скоринга (ks): zp = [35, 45, 190, 200, 40, 70, 54, 150, 120, 110], ks = [401, 574, 874, 919, 459, 739, 653, 902, 746, 832]. Используя математические операции, посчитать коэффициенты линейной регрессии, приняв за X заработную плату (то есть, zp - признак), а за y - значения скорингового балла (то есть, ks - целевая переменная). Произвести расчет как с использованием intercept, так и без."
   ]
  },
  {
   "cell_type": "code",
   "execution_count": 20,
   "metadata": {},
   "outputs": [
    {
     "data": {
      "text/plain": [
       "array([  5,  45, 190, 200,  40,  70,  54, 150, 120, 110])"
      ]
     },
     "execution_count": 20,
     "metadata": {},
     "output_type": "execute_result"
    }
   ],
   "source": [
    "X = np.array([5, 45, 190, 200, 40, 70, 54, 150, 120, 110])\n",
    "X"
   ]
  },
  {
   "cell_type": "code",
   "execution_count": 4,
   "metadata": {},
   "outputs": [
    {
     "data": {
      "text/plain": [
       "array([401, 574, 874, 919, 459, 739, 653, 902, 746, 832])"
      ]
     },
     "execution_count": 4,
     "metadata": {},
     "output_type": "execute_result"
    }
   ],
   "source": [
    "y = np.array([401, 574, 874, 919, 459, 739, 653, 902, 746, 832])\n",
    "y"
   ]
  },
  {
   "cell_type": "code",
   "execution_count": 10,
   "metadata": {},
   "outputs": [
    {
     "data": {
      "image/png": "[encoded data removed]",
      "text/plain": [
       "<Figure size 432x288 with 1 Axes>"
      ]
     },
     "metadata": {
      "needs_background": "light"
     },
     "output_type": "display_data"
    }
   ],
   "source": [
    "plt.scatter(X, y)\n",
    "plt.show()"
   ]
  },
  {
   "cell_type": "code",
   "execution_count": 13,
   "metadata": {},
   "outputs": [],
   "source": [
    "# c использованием intercept"
   ]
  },
  {
   "cell_type": "code",
   "execution_count": 6,
   "metadata": {},
   "outputs": [
    {
     "data": {
      "text/plain": [
       "2.5376040502863573"
      ]
     },
     "execution_count": 6,
     "metadata": {},
     "output_type": "execute_result"
    }
   ],
   "source": [
    "b1 = (np.mean(X*y) - np.mean(X)*np.mean(y))/(np.mean(X**2)-(np.mean(X)**2))\n",
    "b1"
   ]
  },
  {
   "cell_type": "code",
   "execution_count": 11,
   "metadata": {},
   "outputs": [
    {
     "data": {
      "text/plain": [
       "460.1997614518224"
      ]
     },
     "execution_count": 11,
     "metadata": {},
     "output_type": "execute_result"
    }
   ],
   "source": [
    "b0 = np.mean(y) - b1*np.mean(X)\n",
    "b0"
   ]
  },
  {
   "cell_type": "code",
   "execution_count": 12,
   "metadata": {},
   "outputs": [
    {
     "data": {
      "text/plain": [
       "array([472.8877817 , 574.39194371, 942.34453101, 967.72057151,\n",
       "       561.70392346, 637.83204497, 597.23038017, 840.84036899,\n",
       "       764.71224749, 739.33620698])"
      ]
     },
     "execution_count": 12,
     "metadata": {},
     "output_type": "execute_result"
    }
   ],
   "source": [
    "# c использованием intercept\n",
    "y_hat = b0 + b1*X\n",
    "y_hat"
   ]
  },
  {
   "cell_type": "code",
   "execution_count": 14,
   "metadata": {},
   "outputs": [
    {
     "data": {
      "image/png": "[encoded data removed]",
      "text/plain": [
       "<Figure size 432x288 with 1 Axes>"
      ]
     },
     "metadata": {
      "needs_background": "light"
     },
     "output_type": "display_data"
    }
   ],
   "source": [
    "plt.scatter(X, y)\n",
    "plt.plot(X, y_hat)\n",
    "plt.show()"
   ]
  },
  {
   "cell_type": "code",
   "execution_count": 15,
   "metadata": {},
   "outputs": [],
   "source": [
    "# без использования intercept"
   ]
  },
  {
   "cell_type": "code",
   "execution_count": 22,
   "metadata": {},
   "outputs": [
    {
     "data": {
      "text/plain": [
       "array([[  5],\n",
       "       [ 45],\n",
       "       [190],\n",
       "       [200],\n",
       "       [ 40],\n",
       "       [ 70],\n",
       "       [ 54],\n",
       "       [150],\n",
       "       [120],\n",
       "       [110]])"
      ]
     },
     "execution_count": 22,
     "metadata": {},
     "output_type": "execute_result"
    }
   ],
   "source": [
    "X = X.reshape((10,1))\n",
    "X"
   ]
  },
  {
   "cell_type": "code",
   "execution_count": 24,
   "metadata": {},
   "outputs": [
    {
     "data": {
      "text/plain": [
       "array([[401],\n",
       "       [574],\n",
       "       [874],\n",
       "       [919],\n",
       "       [459],\n",
       "       [739],\n",
       "       [653],\n",
       "       [902],\n",
       "       [746],\n",
       "       [832]])"
      ]
     },
     "execution_count": 24,
     "metadata": {},
     "output_type": "execute_result"
    }
   ],
   "source": [
    "y = y.reshape((10, 1))\n",
    "y"
   ]
  },
  {
   "cell_type": "code",
   "execution_count": 28,
   "metadata": {},
   "outputs": [
    {
     "data": {
      "text/plain": [
       "array([[5.85348476]])"
      ]
     },
     "execution_count": 28,
     "metadata": {},
     "output_type": "execute_result"
    }
   ],
   "source": [
    "B = np.dot(np.linalg.inv(np.dot(X.T, X)), X.T@y)\n",
    "B"
   ]
  },
  {
   "cell_type": "code",
   "execution_count": 30,
   "metadata": {},
   "outputs": [
    {
     "data": {
      "text/plain": [
       "array([[  29.26742381],\n",
       "       [ 263.40681429],\n",
       "       [1112.16210477],\n",
       "       [1170.69695239],\n",
       "       [ 234.13939048],\n",
       "       [ 409.74393334],\n",
       "       [ 316.08817715],\n",
       "       [ 878.02271429],\n",
       "       [ 702.41817143],\n",
       "       [ 643.88332381]])"
      ]
     },
     "execution_count": 30,
     "metadata": {},
     "output_type": "execute_result"
    }
   ],
   "source": [
    "y_hat = B[0,0]*X\n",
    "y_hat"
   ]
  },
  {
   "cell_type": "code",
   "execution_count": 31,
   "metadata": {},
   "outputs": [
    {
     "data": {
      "image/png": "[encoded data removed]",
      "text/plain": [
       "<Figure size 432x288 with 1 Axes>"
      ]
     },
     "metadata": {
      "needs_background": "light"
     },
     "output_type": "display_data"
    }
   ],
   "source": [
    "plt.scatter(X, y)\n",
    "plt.plot(X, y_hat)\n",
    "plt.show()"
   ]
  },
  {
   "cell_type": "markdown",
   "metadata": {},
   "source": [
    "2. Посчитать коэффициент линейной регрессии при заработной плате (zp), используя градиентный спуск (без intercept)."
   ]
  },
  {
   "cell_type": "code",
   "execution_count": 32,
   "metadata": {},
   "outputs": [
    {
     "data": {
      "text/plain": [
       "array([  5,  45, 190, 200,  40,  70,  54, 150, 120, 110])"
      ]
     },
     "execution_count": 32,
     "metadata": {},
     "output_type": "execute_result"
    }
   ],
   "source": [
    "X = np.array([5, 45, 190, 200, 40, 70, 54, 150, 120, 110])\n",
    "X"
   ]
  },
  {
   "cell_type": "code",
   "execution_count": 33,
   "metadata": {},
   "outputs": [
    {
     "data": {
      "text/plain": [
       "array([401, 574, 874, 919, 459, 739, 653, 902, 746, 832])"
      ]
     },
     "execution_count": 33,
     "metadata": {},
     "output_type": "execute_result"
    }
   ],
   "source": [
    "y = np.array([401, 574, 874, 919, 459, 739, 653, 902, 746, 832])\n",
    "y"
   ]
  },
  {
   "cell_type": "code",
   "execution_count": 54,
   "metadata": {},
   "outputs": [],
   "source": [
    "def mse_(B1, y=y, X=X, n=10):\n",
    "    return np.sum(B1*X-y)**2/n"
   ]
  },
  {
   "cell_type": "code",
   "execution_count": 35,
   "metadata": {},
   "outputs": [
    {
     "data": {
      "text/plain": [
       "1e-06"
      ]
     },
     "execution_count": 35,
     "metadata": {},
     "output_type": "execute_result"
    }
   ],
   "source": [
    "alpha = 1e-6\n",
    "alpha"
   ]
  },
  {
   "cell_type": "code",
   "execution_count": 45,
   "metadata": {},
   "outputs": [],
   "source": [
    "B1 = 0.1"
   ]
  },
  {
   "cell_type": "code",
   "execution_count": 46,
   "metadata": {},
   "outputs": [],
   "source": [
    "n = 10"
   ]
  },
  {
   "cell_type": "code",
   "execution_count": 47,
   "metadata": {},
   "outputs": [
    {
     "name": "stdout",
     "output_type": "stream",
     "text": [
      "Iteration: 0, B1=0.25714608, mse=4686728.137968535\n",
      "Iteration: 50, B1=4.452107385224734, mse=738821.0761815666\n",
      "Iteration: 100, B1=5.502566301932178, mse=283745.5213366958\n",
      "Iteration: 150, B1=5.765611382780918, mse=203244.48456829152\n",
      "Iteration: 200, B1=5.831480417217407, mse=185183.99706985545\n",
      "Iteration: 250, B1=5.847974661031418, mse=180793.01569393763\n",
      "Iteration: 300, B1=5.852104979341433, mse=179701.71964031586\n",
      "Iteration: 350, B1=5.853139251026416, mse=179428.96574767213\n",
      "Iteration: 400, B1=5.853398242667755, mse=179360.69796397554\n",
      "Iteration: 450, B1=5.853463096681702, mse=179343.60508372576\n",
      "Iteration: 500, B1=5.853479336754562, mse=179339.32498857396\n",
      "Iteration: 550, B1=5.853483403426002, mse=179338.25321931482\n",
      "Iteration: 600, B1=5.853484421759895, mse=179337.98483841898\n",
      "Iteration: 650, B1=5.853484676760561, mse=179337.91763327582\n",
      "Iteration: 700, B1=5.853484740615194, mse=179337.90080446008\n",
      "Iteration: 750, B1=5.853484756605012, mse=179337.89659036172\n",
      "Iteration: 800, B1=5.853484760609019, mse=179337.8955351103\n",
      "Iteration: 850, B1=5.853484761611661, mse=179337.89527086535\n",
      "Iteration: 900, B1=5.853484761862731, mse=179337.89520469602\n",
      "Iteration: 950, B1=5.853484761925603, mse=179337.89518812604\n"
     ]
    }
   ],
   "source": [
    "for i in range(1000):\n",
    "    B1 -= alpha*(2/n)*np.sum((B1*X-y)*X)\n",
    "    if i%50==0:\n",
    "        print('Iteration: {i}, B1={B1}, mse={mse}'.format(i=i, B1=B1, mse=mse_(B1)))"
   ]
  },
  {
   "cell_type": "markdown",
   "metadata": {},
   "source": [
    "3. В каких случаях для вычисления доверительных интервалов и проверки статистических гипотез используется таблица значений функции Лапласа, а в каких - таблица критических точек распределения Стьюдента?"
   ]
  },
  {
   "cell_type": "markdown",
   "metadata": {},
   "source": [
    "В случае когда известна сигма (среднее квадратичное отклонение) для генеральной совокупности используется критерий Z, а соответственно и таблица значений функции Лапласа. В случае когда сигма генеральной совокупности не известна используется критерий t и таблица критических точек распределения Стьюдента."
   ]
  },
  {
   "cell_type": "code",
   "execution_count": null,
   "metadata": {},
   "outputs": [],
   "source": []
  }
 ],
 "metadata": {
  "kernelspec": {
   "display_name": "Python 3",
   "language": "python",
   "name": "python3"
  },
  "language_info": {
   "codemirror_mode": {
    "name": "ipython",
    "version": 3
   },
   "file_extension": ".py",
   "mimetype": "text/x-python",
   "name": "python",
   "nbconvert_exporter": "python",
   "pygments_lexer": "ipython3",
   "version": "3.7.3"
  }
 },
 "nbformat": 4,
 "nbformat_minor": 2
}
